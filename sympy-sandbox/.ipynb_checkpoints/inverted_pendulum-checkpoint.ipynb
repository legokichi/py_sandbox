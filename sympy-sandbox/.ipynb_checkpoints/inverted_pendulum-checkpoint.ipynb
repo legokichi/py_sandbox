{
 "cells": [
  {
   "cell_type": "code",
   "execution_count": 2,
   "metadata": {},
   "outputs": [],
   "source": [
    "%matplotlib inline\n",
    "\n",
    "import numpy as np\n",
    "\n",
    "from sympy import *\n",
    "from sympy import Matrix\n",
    "from sympy.plotting import plot\n",
    "from sympy.stats import *\n",
    "from sympy.solvers.ode import *\n",
    "\n",
    "import matplotlib.pyplot as plt\n",
    "import matplotlib.animation\n",
    "\n",
    "from IPython.display import HTML\n",
    "from IPython.display import display\n",
    "\n",
    "init_printing(use_unicode=True)"
   ]
  },
  {
   "cell_type": "code",
   "execution_count": 12,
   "metadata": {},
   "outputs": [
    {
     "data": {
      "image/png": "[encoded data removed]",
      "text/latex": [
       "$$m_{c}$$"
      ],
      "text/plain": [
       "m_c"
      ]
     },
     "metadata": {},
     "output_type": "display_data"
    },
    {
     "data": {
      "image/png": "[encoded data removed]",
      "text/latex": [
       "$$m_{p}$$"
      ],
      "text/plain": [
       "mₚ"
      ]
     },
     "metadata": {},
     "output_type": "display_data"
    },
    {
     "data": {
      "image/png": "[encoded data removed]",
      "text/latex": [
       "$$j_{p}$$"
      ],
      "text/plain": [
       "jₚ"
      ]
     },
     "metadata": {},
     "output_type": "display_data"
    },
    {
     "data": {
      "image/png": "[encoded data removed]",
      "text/latex": [
       "$$g$$"
      ],
      "text/plain": [
       "g"
      ]
     },
     "metadata": {},
     "output_type": "display_data"
    },
    {
     "data": {
      "image/png": "[encoded data removed]",
      "text/latex": [
       "$$\\mu_c$$"
      ],
      "text/plain": [
       "\\mu_c"
      ]
     },
     "metadata": {},
     "output_type": "display_data"
    },
    {
     "data": {
      "image/png": "[encoded data removed]",
      "text/latex": [
       "$$\\mu_p$$"
      ],
      "text/plain": [
       "\\muₚ"
      ]
     },
     "metadata": {},
     "output_type": "display_data"
    },
    {
     "data": {
      "image/png": "[encoded data removed]",
      "text/latex": [
       "$$l_{p}$$"
      ],
      "text/plain": [
       "lₚ"
      ]
     },
     "metadata": {},
     "output_type": "display_data"
    }
   ],
   "source": [
    "# 定数とか\n",
    "m_c = Symbol('m_c')\n",
    "m_p = Symbol('m_p')\n",
    "j_p = Symbol('j_p')\n",
    "g = Symbol('g')\n",
    "mu_c = Symbol('\\mu_c')\n",
    "mu_p = Symbol('\\mu_p')\n",
    "l_p = Symbol('l_p')\n",
    "display(m_c, m_p, j_p, g, mu_c, mu_p, l_p)"
   ]
  },
  {
   "cell_type": "code",
   "execution_count": 43,
   "metadata": {},
   "outputs": [
    {
     "data": {
      "text/plain": [
       "x"
      ]
     },
     "metadata": {},
     "output_type": "display_data"
    },
    {
     "data": {
      "text/plain": [
       "x_c"
      ]
     },
     "metadata": {},
     "output_type": "display_data"
    },
    {
     "data": {
      "text/plain": [
       "x_p"
      ]
     },
     "metadata": {},
     "output_type": "display_data"
    },
    {
     "data": {
      "text/plain": [
       "y_p"
      ]
     },
     "metadata": {},
     "output_type": "display_data"
    },
    {
     "data": {
      "image/png": "[encoded data removed]",
      "text/latex": [
       "$$f_{c}$$"
      ],
      "text/plain": [
       "f_c"
      ]
     },
     "metadata": {},
     "output_type": "display_data"
    },
    {
     "data": {
      "image/png": "[encoded data removed]",
      "text/latex": [
       "$$\\theta$$"
      ],
      "text/plain": [
       "θ"
      ]
     },
     "metadata": {},
     "output_type": "display_data"
    },
    {
     "data": {
      "image/png": "[encoded data removed]",
      "text/latex": [
       "$$V$$"
      ],
      "text/plain": [
       "V"
      ]
     },
     "metadata": {},
     "output_type": "display_data"
    },
    {
     "data": {
      "image/png": "[encoded data removed]",
      "text/latex": [
       "$$H$$"
      ],
      "text/plain": [
       "H"
      ]
     },
     "metadata": {},
     "output_type": "display_data"
    }
   ],
   "source": [
    "# 変数とか\n",
    "x, x_c, x_p, y_p = symbols('x x_c x_p y_p', cls=Function)\n",
    "f_c = Symbol(\"f_c\")\n",
    "theta = Symbol(\"theta\")\n",
    "V = Symbol(\"V\")\n",
    "H = Symbol(\"H\")\n",
    "display(x, x_c, x_p, y_p, f_c, theta, V, H)"
   ]
  },
  {
   "cell_type": "code",
   "execution_count": 45,
   "metadata": {},
   "outputs": [
    {
     "data": {
      "image/png": "[encoded data removed]",
      "text/latex": [
       "$$m_{c} \\frac{d^{2}}{d t^{2}}  \\operatorname{x_{c}}{\\left (t \\right )} = - H - \\mu_c \\frac{d}{d t} x{\\left (t \\right )} + f_{c}$$"
      ],
      "text/plain": [
       "      2                                    \n",
       "     d                       d             \n",
       "m_c⋅───(x_c(t)) = -H - \\mu_c⋅──(x(t)) + f_c\n",
       "      2                      dt            \n",
       "    dt                                     "
      ]
     },
     "metadata": {},
     "output_type": "display_data"
    },
    {
     "data": {
      "image/png": "[encoded data removed]",
      "text/latex": [
       "$$m_{p} \\frac{d^{2}}{d t^{2}}  \\operatorname{x_{p}}{\\left (t \\right )} = H$$"
      ],
      "text/plain": [
       "     2           \n",
       "    d            \n",
       "mₚ⋅───(xₚ(t)) = H\n",
       "     2           \n",
       "   dt            "
      ]
     },
     "metadata": {},
     "output_type": "display_data"
    },
    {
     "data": {
      "image/png": "[encoded data removed]",
      "text/latex": [
       "$$m_{p} \\frac{d^{2}}{d t^{2}}  \\operatorname{y_{p}}{\\left (t \\right )} = V - g m_{p}$$"
      ],
      "text/plain": [
       "     2                  \n",
       "    d                   \n",
       "mₚ⋅───(yₚ(t)) = V - g⋅mₚ\n",
       "     2                  \n",
       "   dt                   "
      ]
     },
     "metadata": {},
     "output_type": "display_data"
    }
   ],
   "source": [
    "eq1 = Eq(m_c*Derivative(Derivative(x_c(t), t), t), f_c - mu_c * Derivative(x(t)) - H)\n",
    "eq2 = Eq(m_p*Derivative(Derivative(x_p(t), t), t), H)\n",
    "eq3 = Eq(m_p*Derivative(Derivative(y_p(t), t), t), V - m_p * g)\n",
    "display(eq1, eq2, eq3)"
   ]
  },
  {
   "cell_type": "code",
   "execution_count": null,
   "metadata": {},
   "outputs": [],
   "source": []
  }
 ],
 "metadata": {
  "kernelspec": {
   "display_name": "Python 3",
   "language": "python",
   "name": "python3"
  },
  "language_info": {
   "codemirror_mode": {
    "name": "ipython",
    "version": 3
   },
   "file_extension": ".py",
   "mimetype": "text/x-python",
   "name": "python",
   "nbconvert_exporter": "python",
   "pygments_lexer": "ipython3",
   "version": "3.6.5"
  }
 },
 "nbformat": 4,
 "nbformat_minor": 2
}
