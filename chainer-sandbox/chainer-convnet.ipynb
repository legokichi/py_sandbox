{
 "cells": [
  {
   "cell_type": "code",
   "execution_count": 1,
   "metadata": {
    "collapsed": true
   },
   "outputs": [],
   "source": [
    "%matplotlib inline\n",
    "import matplotlib.pyplot as plt\n",
    "import numpy as np\n",
    "import chainer.functions as F\n",
    "import chainer.links as L\n",
    "from chainer import optimizers\n",
    "from chainer import Variable\n",
    "from chainer import Chain\n",
    "import data"
   ]
  },
  {
   "cell_type": "code",
   "execution_count": 3,
   "metadata": {
    "collapsed": false
   },
   "outputs": [],
   "source": [
    "mnist = data.load_mnist_data()\n",
    "x_all = mnist[\"data\"].astype(np.float32) / 255\n",
    "y_all = mnist[\"target\"].astype(np.int32)\n",
    "x_train, x_test = np.split(x_all, [60000])\n",
    "y_train, y_test = np.split(y_all, [60000])\n",
    "x_train = x_train.reshape((len(x_train), 1, 28,28))\n",
    "x_test = x_test.reshape((len(x_test), 1, 28,28))"
   ]
  },
  {
   "cell_type": "code",
   "execution_count": 4,
   "metadata": {
    "collapsed": true
   },
   "outputs": [],
   "source": [
    "class Model(Chain):\n",
    "    def __init__(self):\n",
    "        super(Model, self).__init__(\n",
    "            conv1=L.Convolution2D(1, 20, 5),\n",
    "            conv2=L.Convolution2D(20, 50, 5),\n",
    "            fc1=L.Linear(800, 500),\n",
    "            fc2=L.Linear(500, 10) )\n",
    "    def __call__(self, x, train=True):\n",
    "        cv1 = self.conv1(x)\n",
    "        relu = F.relu(cv1)\n",
    "        h = F.max_pooling_2d(relu, 2)\n",
    "        h = F.max_pooling_2d(F.relu(self.conv2(h)),  2)\n",
    "        h = F.dropout(F.relu(self.fc1(h)), train=train)\n",
    "        return self.fc2(h)"
   ]
  },
  {
   "cell_type": "code",
   "execution_count": 5,
   "metadata": {
    "collapsed": false
   },
   "outputs": [],
   "source": [
    "model = L.Classifier(Model())\n",
    "optimizer = optimizers.MomentumSGD(lr=0.01, momentum=0.9)\n",
    "optimizer.setup(model)"
   ]
  },
  {
   "cell_type": "code",
   "execution_count": 6,
   "metadata": {
    "collapsed": true
   },
   "outputs": [],
   "source": [
    "batchsize = 100\n",
    "datasize = 60000"
   ]
  },
  {
   "cell_type": "code",
   "execution_count": null,
   "metadata": {
    "collapsed": false
   },
   "outputs": [],
   "source": [
    "for i in range(20):\n",
    "    indexes = np.random.permutation(datasize)\n",
    "    for i in range(0, datasize, batchsize):\n",
    "        x = Variable(x_train[indexes[i:i+batchsize]])\n",
    "        t = Variable(y_train[indexes[i:i+batchsize]])\n",
    "        model.zerograds()\n",
    "        loss = model(x,t)\n",
    "        loss.backward()\n",
    "        optimizer.update()\n",
    "    x = Variable(x_test)\n",
    "    t = Variable(y_test)\n",
    "    loss = model(x, t)\n",
    "    print(loss.data)"
   ]
  },
  {
   "cell_type": "code",
   "execution_count": null,
   "metadata": {
    "collapsed": true
   },
   "outputs": [],
   "source": []
  }
 ],
 "metadata": {
  "anaconda-cloud": {},
  "kernelspec": {
   "display_name": "Python [Root]",
   "language": "python",
   "name": "Python [Root]"
  },
  "language_info": {
   "codemirror_mode": {
    "name": "ipython",
    "version": 3
   },
   "file_extension": ".py",
   "mimetype": "text/x-python",
   "name": "python",
   "nbconvert_exporter": "python",
   "pygments_lexer": "ipython3",
   "version": "3.5.2"
  }
 },
 "nbformat": 4,
 "nbformat_minor": 0
}
